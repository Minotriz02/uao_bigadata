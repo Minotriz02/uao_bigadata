{
  "nbformat": 4,
  "nbformat_minor": 0,
  "metadata": {
    "colab": {
      "name": "subidaNota.ipynb",
      "provenance": []
    },
    "kernelspec": {
      "name": "python3",
      "display_name": "Python 3"
    },
    "language_info": {
      "name": "python"
    }
  },
  "cells": [
    {
      "cell_type": "code",
      "execution_count": 1,
      "metadata": {
        "colab": {
          "base_uri": "https://localhost:8080/"
        },
        "id": "wUwYdDUYmreI",
        "outputId": "fb0acf82-7035-4195-a3ac-c8fcc3e58024"
      },
      "outputs": [
        {
          "output_type": "stream",
          "name": "stdout",
          "text": [
            "2  es un numero primo\n",
            "9  NO es un numero primo\n",
            "12  NO es un numero primo\n",
            "13  es un numero primo\n",
            "23  es un numero primo\n",
            "127  es un numero primo\n"
          ]
        }
      ],
      "source": [
        "with open(\"num.txt\",\"r\") as freader:\n",
        "  lines=freader.readlines()\n",
        "  for i in range(len(lines)):\n",
        "    div=0\n",
        "    j=1\n",
        "    num = int(lines[i])\n",
        "    while j <= num:\n",
        "      if num % j == 0:\n",
        "        div +=1\n",
        "      j+=1\n",
        "    if div == 2:\n",
        "      print(num, \" es un numero primo\")\n",
        "    else:\n",
        "      print(num, \" NO es un numero primo\")"
      ]
    },
    {
      "cell_type": "code",
      "source": [
        ""
      ],
      "metadata": {
        "id": "rLTgcbLImyNC"
      },
      "execution_count": null,
      "outputs": []
    }
  ]
}