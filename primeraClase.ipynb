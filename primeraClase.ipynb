{
  "nbformat": 4,
  "nbformat_minor": 0,
  "metadata": {
    "colab": {
      "name": "primeraClase.ipynb",
      "provenance": []
    },
    "kernelspec": {
      "name": "python3",
      "display_name": "Python 3"
    },
    "language_info": {
      "name": "python"
    }
  },
  "cells": [
    {
      "cell_type": "code",
      "source": [
        "horas=input(\"¿Cuantas horas trabajo?\")\n",
        "paga=input(\"¿Cuanto es el coste por hora?\")\n",
        "print(\"Su paga es de\", int(horas)*int(paga))"
      ],
      "metadata": {
        "colab": {
          "base_uri": "https://localhost:8080/"
        },
        "id": "4k_deMJFdF0V",
        "outputId": "0a85521a-5c1a-4ae2-87ca-ac6aa19ecfc4"
      },
      "execution_count": null,
      "outputs": [
        {
          "output_type": "stream",
          "name": "stdout",
          "text": [
            "¿Cuantas horas trabajo?2\n",
            "¿Cuanto es el coste por hora?4000\n",
            "Su paga es de 8000\n"
          ]
        }
      ]
    },
    {
      "cell_type": "code",
      "source": [
        "peso=input(\"¿Cuanto pesa en kg?\")\n",
        "estatura=input(\"¿Cuanto mide en m?\")\n",
        "imc = float(peso)/(float(estatura)**2)\n",
        "print(\"Tú indice de masa corporal es\",round(imc,2))"
      ],
      "metadata": {
        "colab": {
          "base_uri": "https://localhost:8080/"
        },
        "id": "0HsUcS0Udi71",
        "outputId": "83a71815-a6a2-4d52-ce5c-f4ce64a5b606"
      },
      "execution_count": null,
      "outputs": [
        {
          "output_type": "stream",
          "name": "stdout",
          "text": [
            "¿Cuanto pesa en kg?50\n",
            "¿Cuanto mide en m?1.7\n",
            "Tú indice de masa corporal es 17.3\n"
          ]
        }
      ]
    },
    {
      "cell_type": "code",
      "source": [
        "barra=450\n",
        "antDia = int(input(\"¿Cuantas se vendieron del anterior día?\"))\n",
        "precioNormal = antDia * barra\n",
        "descuento = precioNormal * 0.5\n",
        "precioTotal = precioNormal - descuento\n",
        "print(\"El precio normalmente seria de \",precioNormal, \" el descuento es del \",descuento, \" y el precio total es \",precioTotal  )"
      ],
      "metadata": {
        "colab": {
          "base_uri": "https://localhost:8080/"
        },
        "id": "Ze3RcF0ce-24",
        "outputId": "d6a280cd-af7d-4e30-a2bd-1926e26488c9"
      },
      "execution_count": null,
      "outputs": [
        {
          "output_type": "stream",
          "name": "stdout",
          "text": [
            "¿Cuantas se vendieron del anterior día?10\n",
            "El precio normalmente seria de  4500  el descuento es del  2250.0  y el precio total es  2250.0\n"
          ]
        }
      ]
    },
    {
      "cell_type": "code",
      "source": [
        "tupla = (1,2,3,4)"
      ],
      "metadata": {
        "id": "VI__hwi3hArw"
      },
      "execution_count": null,
      "outputs": []
    },
    {
      "cell_type": "code",
      "source": [
        "tupla.count\n",
        "print(tupla)"
      ],
      "metadata": {
        "colab": {
          "base_uri": "https://localhost:8080/"
        },
        "id": "nKPBmVMZEfHR",
        "outputId": "d576dffb-26ec-4e67-cf89-fa94404a6369"
      },
      "execution_count": null,
      "outputs": [
        {
          "output_type": "stream",
          "name": "stdout",
          "text": [
            "(1, 2, 3, 4)\n"
          ]
        }
      ]
    },
    {
      "cell_type": "code",
      "source": [
        "persona = {\"nombre\":\"Sebastian\", \"apellido\":\"Lopez\",\"edad\":4}"
      ],
      "metadata": {
        "id": "70OXHtdxEr0w"
      },
      "execution_count": null,
      "outputs": []
    },
    {
      "cell_type": "code",
      "source": [
        "print(persona[\"edad\"])"
      ],
      "metadata": {
        "colab": {
          "base_uri": "https://localhost:8080/"
        },
        "id": "zNNWfmm7E8-A",
        "outputId": "94aa4f56-c6b4-44af-a72d-69b0e17e73ce"
      },
      "execution_count": null,
      "outputs": [
        {
          "output_type": "stream",
          "name": "stdout",
          "text": [
            "4\n"
          ]
        }
      ]
    },
    {
      "cell_type": "code",
      "source": [
        "t_indices=(\"nombre\", \"apellido\")\n",
        "for i in t_indices:\n",
        "  print(\"Llave:\", i, \"Valor:\", persona[i])"
      ],
      "metadata": {
        "colab": {
          "base_uri": "https://localhost:8080/"
        },
        "id": "5DYIqRR4E-qg",
        "outputId": "a78d2d49-8a2a-40fd-e9b8-5d9ead11bb3f"
      },
      "execution_count": null,
      "outputs": [
        {
          "output_type": "stream",
          "name": "stdout",
          "text": [
            "Llave: nombre Valor: Sebastian\n",
            "Llave: apellido Valor: Lopez\n"
          ]
        }
      ]
    },
    {
      "cell_type": "code",
      "source": [
        "def saludar(nombre):\n",
        "  nombre=1234\n",
        "  print(\"hola\", nombre)\n",
        "\n",
        "name=\"Steven\"\n",
        "saludar(name)\n",
        "print(name)"
      ],
      "metadata": {
        "colab": {
          "base_uri": "https://localhost:8080/"
        },
        "id": "AMn9ITDGFfsQ",
        "outputId": "cdd7fbb3-7437-48ff-a38b-ef2f108d6a98"
      },
      "execution_count": null,
      "outputs": [
        {
          "output_type": "stream",
          "name": "stdout",
          "text": [
            "hola 1234\n",
            "Steven\n"
          ]
        }
      ]
    },
    {
      "cell_type": "code",
      "source": [
        "x = int(input(\"Cantidad de numeros\"))\n",
        "for i in range(x):\n",
        "  y= int(input(\"Ingrese \"+str(i)))\n",
        "  i+1\n",
        "  print(y)"
      ],
      "metadata": {
        "colab": {
          "base_uri": "https://localhost:8080/"
        },
        "id": "JfK6M2VgIMU5",
        "outputId": "5463af47-3b52-4e02-b556-22a0eeed1149"
      },
      "execution_count": null,
      "outputs": [
        {
          "output_type": "stream",
          "name": "stdout",
          "text": [
            "Cantidad de numeros5\n",
            "Ingrese 01\n",
            "1\n",
            "Ingrese 12\n",
            "2\n",
            "Ingrese 23\n",
            "3\n",
            "Ingrese 34\n",
            "4\n",
            "Ingrese 45\n",
            "5\n"
          ]
        }
      ]
    },
    {
      "cell_type": "code",
      "source": [
        "def calcular_total(productos, iva=0.16):\n",
        "  sum=0\n",
        "  for p in productos:\n",
        "    sum = sum + ((p*iva)+p)\n",
        "  return sum"
      ],
      "metadata": {
        "id": "NZOmcSMDKTh1"
      },
      "execution_count": null,
      "outputs": []
    },
    {
      "cell_type": "code",
      "source": [
        "print(calcular_total([12,54,23]))\n",
        "print(calcular_total([12,54,23], iva=0.19))"
      ],
      "metadata": {
        "colab": {
          "base_uri": "https://localhost:8080/"
        },
        "id": "XLgpELzrNzqG",
        "outputId": "2744dde3-0968-4b29-c051-4974386f9c66"
      },
      "execution_count": null,
      "outputs": [
        {
          "output_type": "stream",
          "name": "stdout",
          "text": [
            "103.24000000000001\n",
            "105.91000000000001\n"
          ]
        }
      ]
    },
    {
      "cell_type": "code",
      "source": [
        "cant = int(input(\"¿Cuantos numeros va a validar?\"))\n",
        "for i in range(cant):\n",
        "  num = int(input(\"Ingrese el numero\"))\n",
        "  div=0\n",
        "  j=1\n",
        "  while j <= num:\n",
        "    if num % j == 0:\n",
        "      div +=1\n",
        "    j+=1\n",
        "  if div == 2:\n",
        "    print(num, \" es un numero primo\")\n",
        "  else:\n",
        "    print(num, \" NO es un numero primo\")"
      ],
      "metadata": {
        "id": "NnPqnEwPN8OF",
        "colab": {
          "base_uri": "https://localhost:8080/"
        },
        "outputId": "09377675-a246-48f8-c26f-63d60ef982cb"
      },
      "execution_count": null,
      "outputs": [
        {
          "output_type": "stream",
          "name": "stdout",
          "text": [
            "¿Cuantos numeros va a validar?3\n",
            "Ingrese el numero0\n",
            "0  NO es un numero primo\n",
            "Ingrese el numero6\n",
            "6  NO es un numero primo\n",
            "Ingrese el numero11\n",
            "11  es un numero primo\n"
          ]
        }
      ]
    },
    {
      "cell_type": "code",
      "source": [
        "with open(\"test.txt\",\"w\") as fwriter:\n",
        "  fwriter.write(\"Mar\")"
      ],
      "metadata": {
        "id": "R_sqzzMUV8Dp"
      },
      "execution_count": 3,
      "outputs": []
    },
    {
      "cell_type": "code",
      "source": [
        "with open(\"test.txt\",\"r\") as freader:\n",
        "  print(freader.readlines())"
      ],
      "metadata": {
        "colab": {
          "base_uri": "https://localhost:8080/"
        },
        "id": "FCDqTLIsKS7j",
        "outputId": "67d56ce5-70e2-43b3-b28a-da6705db7d7f"
      },
      "execution_count": 2,
      "outputs": [
        {
          "output_type": "stream",
          "name": "stdout",
          "text": [
            "['Holiwi']\n"
          ]
        }
      ]
    },
    {
      "cell_type": "code",
      "source": [
        ""
      ],
      "metadata": {
        "id": "yoO005eCKqNN"
      },
      "execution_count": null,
      "outputs": []
    }
  ]
}